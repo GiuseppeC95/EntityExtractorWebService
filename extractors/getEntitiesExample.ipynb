{
 "cells": [
  {
   "cell_type": "code",
   "execution_count": 1,
   "metadata": {
    "scrolled": true
   },
   "outputs": [],
   "source": [
    "#Debug time\n",
    "import time\n",
    "\n",
    "\n",
    "\n",
    "from utils.extractors import dandelion, dbspotlight, babelfy, textrazor, meaning_cloud,opencalais,dbspotlight,fox,spacyner,adel\n",
    "from utils.request import *\n",
    "from utils.tokenization import *\n",
    "credentials_apis = json.load(open('credentials.json'))\n",
    "\n",
    "credential_index = {key:0 for key in credentials_apis}\n",
    "\n",
    "\n",
    "EXTRACTORS = [\n",
    "    dandelion.DANDELION(credentials_apis['dandelion'][0]),\n",
    "    babelfy.BABELFY(credentials_apis['babelfy'][0]),\n",
    "    textrazor.TEXTRAZOR(credentials_apis['textrazor'][0]),\n",
    "    meaning_cloud.MEANINGCLOUD(credentials_apis['meaning_cloud'][0]),\n",
    "    opencalais.OPENCALAIS(credentials_apis['opencalais'][0]),\n",
    "    spacyner.SPACYNER()\n",
    "]\n",
    "\n",
    "def getEntities(text,extractors=EXTRACTORS,lang='en',credentials_apis=credentials_apis,credential_index=credential_index):\n",
    "    ensemble_response = {'text':text,'entities':{}}\n",
    "    for ext in extractors:\n",
    "        #Debug\n",
    "        start_time = time.time()\n",
    "        \n",
    "        flag = True\n",
    "        count = 0\n",
    "        while flag:\n",
    "            try:\n",
    "                ext.extract(text,lang=lang)\n",
    "                flag = False\n",
    "            except Exception as e:\n",
    "                global ERR\n",
    "                ERR = e\n",
    "                #credential_index[ext.name] += 1\n",
    "                try:\n",
    "                    print()\n",
    "                    #ext.change_credendials(credential_index[ext.name]) \n",
    "                except:\n",
    "                    pass\n",
    "                count += 1\n",
    "                if count > 6:\n",
    "                    raise\n",
    "                print(ext.name)\n",
    "\n",
    "\n",
    "        ext.parse()\n",
    "        ext_entities = ext.get_annotations()\n",
    "        if type(ext_entities) == dict:\n",
    "            for key in ext_entities:\n",
    "                ensemble_response['entities'][ext.name+'___'+key] = ext_entities[key]\n",
    "        else:\n",
    "            ensemble_response['entities'][ext.name] = ext_entities\n",
    "            \n",
    "        print(\"---%s %s seconds ---\" % (ext.__class__.__name__, time.time() - start_time))\n",
    "        \n",
    "    return ensemble_response"
   ]
  },
  {
   "cell_type": "code",
   "execution_count": null,
   "metadata": {},
   "outputs": [],
   "source": []
  },
  {
   "cell_type": "code",
   "execution_count": null,
   "metadata": {},
   "outputs": [],
   "source": []
  },
  {
   "cell_type": "code",
   "execution_count": 4,
   "metadata": {},
   "outputs": [],
   "source": [
    "text=\"This is the database course, which teaches you about database management system\""
   ]
  },
  {
   "cell_type": "code",
   "execution_count": null,
   "metadata": {},
   "outputs": [],
   "source": []
  },
  {
   "cell_type": "code",
   "execution_count": 5,
   "metadata": {
    "scrolled": false
   },
   "outputs": [
    {
     "name": "stdout",
     "output_type": "stream",
     "text": [
      "---DANDELION 2.0586395263671875 seconds ---\n",
      "---BABELFY 2.303156852722168 seconds ---\n",
      "---TEXTRAZOR 1.2592568397521973 seconds ---\n",
      "---MEANINGCLOUD 0.8577802181243896 seconds ---\n",
      "---OPENCALAIS 2.475574493408203 seconds ---\n",
      "---SPACYNER 0.5564718246459961 seconds ---\n",
      "Wall time: 9.51 s\n"
     ]
    },
    {
     "data": {
      "text/plain": [
       "{'text': 'This is the database course, which teaches you about database management system',\n",
       " 'entities': {'dandelion': [{'types': [],\n",
       "    'DBtypes': [],\n",
       "    'start': 21,\n",
       "    'end': 26,\n",
       "    'wikidataUri': '',\n",
       "    'dbpediaUri': '',\n",
       "    'surface': 'course'},\n",
       "   {'types': [],\n",
       "    'DBtypes': ['http://dbpedia.org/ontology/Book'],\n",
       "    'start': 53,\n",
       "    'end': 78,\n",
       "    'wikidataUri': 'http://www.wikidata.org/entity/Q8513',\n",
       "    'dbpediaUri': 'http://dbpedia.org/resource/Database',\n",
       "    'surface': 'database management system'}],\n",
       "  'babelfy': [{'types': [],\n",
       "    'DBtypes': ['http://dbpedia.org/ontology/Book'],\n",
       "    'start': 12,\n",
       "    'end': 19,\n",
       "    'dbpediaUri': 'http://dbpedia.org/resource/Database',\n",
       "    'wikidataUri': 'http://www.wikidata.org/entity/Q8513',\n",
       "    'surface': 'database'},\n",
       "   {'types': [],\n",
       "    'DBtypes': ['http://dbpedia.org/ontology/Software'],\n",
       "    'start': 21,\n",
       "    'end': 26,\n",
       "    'dbpediaUri': 'http://dbpedia.org/resource/Music_examination',\n",
       "    'wikidataUri': 'http://www.wikidata.org/entity/Q6941743',\n",
       "    'surface': 'course'},\n",
       "   {'types': [],\n",
       "    'DBtypes': ['http://dbpedia.org/ontology/Book'],\n",
       "    'start': 53,\n",
       "    'end': 60,\n",
       "    'dbpediaUri': 'http://dbpedia.org/resource/Database',\n",
       "    'wikidataUri': 'http://www.wikidata.org/entity/Q8513',\n",
       "    'surface': 'database'},\n",
       "   {'types': [],\n",
       "    'DBtypes': ['http://dbpedia.org/ontology/Disease'],\n",
       "    'start': 62,\n",
       "    'end': 71,\n",
       "    'dbpediaUri': 'http://dbpedia.org/resource/Management',\n",
       "    'wikidataUri': 'http://www.wikidata.org/entity/Q2920921',\n",
       "    'surface': 'management'},\n",
       "   {'types': [],\n",
       "    'DBtypes': ['http://dbpedia.org/ontology/Software'],\n",
       "    'start': 62,\n",
       "    'end': 78,\n",
       "    'dbpediaUri': 'http://dbpedia.org/resource/Management_system',\n",
       "    'wikidataUri': 'http://www.wikidata.org/entity/Q629173',\n",
       "    'surface': 'management system'}],\n",
       "  'textrazor': [{'types': [],\n",
       "    'start': 12,\n",
       "    'end': 19,\n",
       "    'wikidataUri': 'http://www.wikidata.org/entity/Q8513',\n",
       "    'dbpediaUri': 'http://dbpedia.org/resource/Database',\n",
       "    'DBtypes': ['http://dbpedia.org/ontology/Book'],\n",
       "    'surface': 'database'},\n",
       "   {'types': [],\n",
       "    'start': 53,\n",
       "    'end': 78,\n",
       "    'wikidataUri': 'http://www.wikidata.org/entity/Q8513',\n",
       "    'dbpediaUri': 'http://dbpedia.org/resource/Database',\n",
       "    'DBtypes': ['http://dbpedia.org/ontology/Book'],\n",
       "    'surface': 'database management system'}],\n",
       "  'meaning_cloud': [],\n",
       "  'opencalais': [{'DBtypes': [],\n",
       "    'types': ['Technology'],\n",
       "    'start': 53,\n",
       "    'end': 79,\n",
       "    'dbpediaUri': '',\n",
       "    'wikidataUri': '',\n",
       "    'surface': 'database management system'}],\n",
       "  'spacyner': []}}"
      ]
     },
     "execution_count": 5,
     "metadata": {},
     "output_type": "execute_result"
    }
   ],
   "source": [
    "%%time\n",
    "getEntities(text)"
   ]
  },
  {
   "cell_type": "code",
   "execution_count": null,
   "metadata": {},
   "outputs": [],
   "source": []
  },
  {
   "cell_type": "code",
   "execution_count": null,
   "metadata": {},
   "outputs": [],
   "source": []
  }
 ],
 "metadata": {
  "kernelspec": {
   "display_name": "venv",
   "language": "python",
   "name": "venv"
  },
  "language_info": {
   "codemirror_mode": {
    "name": "ipython",
    "version": 3
   },
   "file_extension": ".py",
   "mimetype": "text/x-python",
   "name": "python",
   "nbconvert_exporter": "python",
   "pygments_lexer": "ipython3",
   "version": "3.8.3"
  },
  "pycharm": {
   "stem_cell": {
    "cell_type": "raw",
    "source": [],
    "metadata": {
     "collapsed": false
    }
   }
  }
 },
 "nbformat": 4,
 "nbformat_minor": 2
}